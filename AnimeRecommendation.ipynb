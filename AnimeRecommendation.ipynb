{
 "cells": [
  {
   "cell_type": "markdown",
   "id": "4a9f8be5",
   "metadata": {},
   "source": [
    "# Recommendation System using Content-based Filtering"
   ]
  },
  {
   "cell_type": "markdown",
   "id": "8f1eb400",
   "metadata": {},
   "source": [
    "by Harman Muhammad Satrio Reinaldy"
   ]
  },
  {
   "cell_type": "markdown",
   "id": "58a01919",
   "metadata": {},
   "source": [
    "### Import Library"
   ]
  },
  {
   "cell_type": "markdown",
   "id": "63634f3d",
   "metadata": {},
   "source": [
    "1. NumPy: A library that provides support for numerical operations and multidimensional arrays. Used for numerical data manipulation and processing.\n",
    "2. Pandas: A library used for data manipulation and analysis. Pandas provides powerful data structures such as DataFrame, which makes it easy to process and transform data.\n",
    "3. sklearn: scikit-learn, commonly known as sklearn, is a popular machine learning library in Python. Sklearn provides a wide variety of tools and algorithms for tasks such as classification, regression, clustering, and dimensionality reduction.\n",
    "4. rake_nltk: rake_nltk is a library that implements the Rapid Automatic Keyword Extraction (RAKE) algorithm. RAKE is a technique for extracting keywords from text by analyzing word frequency and co-occurrence.\n",
    "5. TfidfVectorizer: TfidfVectorizer is a class in scikit-learn that converts a collection of raw text documents into a numerical feature matrix using TF-IDF (Term Frequency-Inverse Document Frequency) representation. This class is commonly used for text mining and information retrieval tasks.\n",
    "6. cosine_similarity: cosine_similarity is a function in scikit-learn that calculates the cosine similarity between pairs of samples. It measures the similarity between two vectors by taking the cosine of the angle between them."
   ]
  },
  {
   "cell_type": "code",
   "execution_count": 108,
   "id": "e2da8a48",
   "metadata": {},
   "outputs": [],
   "source": [
    "import pandas as pd\n",
    "import numpy as np\n",
    "import sklearn\n",
    "\n",
    "from rake_nltk import Rake\n",
    "from sklearn.feature_extraction.text import CountVectorizer\n",
    "from sklearn.metrics.pairwise import cosine_similarity\n",
    "from sklearn.metrics import average_precision_score\n",
    "\n",
    "import warnings\n",
    "warnings.filterwarnings(\"ignore\")\n",
    "\n",
    "%matplotlib inline"
   ]
  },
  {
   "cell_type": "markdown",
   "id": "b4c871b2",
   "metadata": {},
   "source": [
    "### Data Loading and Preprocessing\n",
    "\n",
    "In this section, import data and preprocessing such as:\n",
    "- taking a dataset of 15000 rows for processing\n",
    "- checking for missing values\n",
    "- title change"
   ]
  },
  {
   "cell_type": "code",
   "execution_count": 76,
   "id": "38851714",
   "metadata": {},
   "outputs": [],
   "source": [
    "df = pd.read_csv(\"animes.csv\")\n",
    "df = df[0:15000]"
   ]
  },
  {
   "cell_type": "code",
   "execution_count": 77,
   "id": "f1e444c3",
   "metadata": {},
   "outputs": [
    {
     "data": {
      "text/html": [
       "<div>\n",
       "<style scoped>\n",
       "    .dataframe tbody tr th:only-of-type {\n",
       "        vertical-align: middle;\n",
       "    }\n",
       "\n",
       "    .dataframe tbody tr th {\n",
       "        vertical-align: top;\n",
       "    }\n",
       "\n",
       "    .dataframe thead th {\n",
       "        text-align: right;\n",
       "    }\n",
       "</style>\n",
       "<table border=\"1\" class=\"dataframe\">\n",
       "  <thead>\n",
       "    <tr style=\"text-align: right;\">\n",
       "      <th></th>\n",
       "      <th>uid</th>\n",
       "      <th>title</th>\n",
       "      <th>synopsis</th>\n",
       "      <th>genre</th>\n",
       "      <th>aired</th>\n",
       "      <th>episodes</th>\n",
       "      <th>members</th>\n",
       "      <th>popularity</th>\n",
       "      <th>ranked</th>\n",
       "      <th>score</th>\n",
       "      <th>img_url</th>\n",
       "      <th>link</th>\n",
       "    </tr>\n",
       "  </thead>\n",
       "  <tbody>\n",
       "    <tr>\n",
       "      <th>0</th>\n",
       "      <td>28891</td>\n",
       "      <td>Haikyuu!! Second Season</td>\n",
       "      <td>Following their participation at the Inter-Hig...</td>\n",
       "      <td>['Comedy', 'Sports', 'Drama', 'School', 'Shoun...</td>\n",
       "      <td>Oct 4, 2015 to Mar 27, 2016</td>\n",
       "      <td>25.0</td>\n",
       "      <td>489888</td>\n",
       "      <td>141</td>\n",
       "      <td>25.0</td>\n",
       "      <td>8.82</td>\n",
       "      <td>https://cdn.myanimelist.net/images/anime/9/766...</td>\n",
       "      <td>https://myanimelist.net/anime/28891/Haikyuu_Se...</td>\n",
       "    </tr>\n",
       "    <tr>\n",
       "      <th>1</th>\n",
       "      <td>23273</td>\n",
       "      <td>Shigatsu wa Kimi no Uso</td>\n",
       "      <td>Music accompanies the path of the human metron...</td>\n",
       "      <td>['Drama', 'Music', 'Romance', 'School', 'Shoun...</td>\n",
       "      <td>Oct 10, 2014 to Mar 20, 2015</td>\n",
       "      <td>22.0</td>\n",
       "      <td>995473</td>\n",
       "      <td>28</td>\n",
       "      <td>24.0</td>\n",
       "      <td>8.83</td>\n",
       "      <td>https://cdn.myanimelist.net/images/anime/3/671...</td>\n",
       "      <td>https://myanimelist.net/anime/23273/Shigatsu_w...</td>\n",
       "    </tr>\n",
       "    <tr>\n",
       "      <th>2</th>\n",
       "      <td>34599</td>\n",
       "      <td>Made in Abyss</td>\n",
       "      <td>The Abyss—a gaping chasm stretching down into ...</td>\n",
       "      <td>['Sci-Fi', 'Adventure', 'Mystery', 'Drama', 'F...</td>\n",
       "      <td>Jul 7, 2017 to Sep 29, 2017</td>\n",
       "      <td>13.0</td>\n",
       "      <td>581663</td>\n",
       "      <td>98</td>\n",
       "      <td>23.0</td>\n",
       "      <td>8.83</td>\n",
       "      <td>https://cdn.myanimelist.net/images/anime/6/867...</td>\n",
       "      <td>https://myanimelist.net/anime/34599/Made_in_Abyss</td>\n",
       "    </tr>\n",
       "    <tr>\n",
       "      <th>3</th>\n",
       "      <td>5114</td>\n",
       "      <td>Fullmetal Alchemist: Brotherhood</td>\n",
       "      <td>\"In order for something to be obtained, someth...</td>\n",
       "      <td>['Action', 'Military', 'Adventure', 'Comedy', ...</td>\n",
       "      <td>Apr 5, 2009 to Jul 4, 2010</td>\n",
       "      <td>64.0</td>\n",
       "      <td>1615084</td>\n",
       "      <td>4</td>\n",
       "      <td>1.0</td>\n",
       "      <td>9.23</td>\n",
       "      <td>https://cdn.myanimelist.net/images/anime/1223/...</td>\n",
       "      <td>https://myanimelist.net/anime/5114/Fullmetal_A...</td>\n",
       "    </tr>\n",
       "    <tr>\n",
       "      <th>4</th>\n",
       "      <td>31758</td>\n",
       "      <td>Kizumonogatari III: Reiketsu-hen</td>\n",
       "      <td>After helping revive the legendary vampire Kis...</td>\n",
       "      <td>['Action', 'Mystery', 'Supernatural', 'Vampire']</td>\n",
       "      <td>Jan 6, 2017</td>\n",
       "      <td>1.0</td>\n",
       "      <td>214621</td>\n",
       "      <td>502</td>\n",
       "      <td>22.0</td>\n",
       "      <td>8.83</td>\n",
       "      <td>https://cdn.myanimelist.net/images/anime/3/815...</td>\n",
       "      <td>https://myanimelist.net/anime/31758/Kizumonoga...</td>\n",
       "    </tr>\n",
       "    <tr>\n",
       "      <th>...</th>\n",
       "      <td>...</td>\n",
       "      <td>...</td>\n",
       "      <td>...</td>\n",
       "      <td>...</td>\n",
       "      <td>...</td>\n",
       "      <td>...</td>\n",
       "      <td>...</td>\n",
       "      <td>...</td>\n",
       "      <td>...</td>\n",
       "      <td>...</td>\n",
       "      <td>...</td>\n",
       "      <td>...</td>\n",
       "    </tr>\n",
       "    <tr>\n",
       "      <th>14995</th>\n",
       "      <td>2820</td>\n",
       "      <td>Time Travel Tondekeman!</td>\n",
       "      <td>The series starts when Hayato, a soccer enthus...</td>\n",
       "      <td>['Action', 'Kids', 'Adventure', 'Comedy']</td>\n",
       "      <td>Oct 19, 1989 to Aug 26, 1990</td>\n",
       "      <td>39.0</td>\n",
       "      <td>1469</td>\n",
       "      <td>8684</td>\n",
       "      <td>2084.0</td>\n",
       "      <td>7.41</td>\n",
       "      <td>https://cdn.myanimelist.net/images/anime/6/456...</td>\n",
       "      <td>https://myanimelist.net/anime/2820/Time_Travel...</td>\n",
       "    </tr>\n",
       "    <tr>\n",
       "      <th>14996</th>\n",
       "      <td>38850</td>\n",
       "      <td>Star☆Twinkle Precure: Hoshi no Uta ni Omoi wo ...</td>\n",
       "      <td>NaN</td>\n",
       "      <td>['Action', 'Magic', 'Fantasy', 'Shoujo']</td>\n",
       "      <td>Oct 19, 2019</td>\n",
       "      <td>1.0</td>\n",
       "      <td>1187</td>\n",
       "      <td>9176</td>\n",
       "      <td>2081.0</td>\n",
       "      <td>7.41</td>\n",
       "      <td>https://cdn.myanimelist.net/images/anime/1324/...</td>\n",
       "      <td>https://myanimelist.net/anime/38850/Star%E2%98...</td>\n",
       "    </tr>\n",
       "    <tr>\n",
       "      <th>14997</th>\n",
       "      <td>40815</td>\n",
       "      <td>Honzuki no Gekokujou: Shisho ni Naru Tame ni w...</td>\n",
       "      <td>Second half of  Honzuki no Gekokujou: Shisho n...</td>\n",
       "      <td>['Slice of Life', 'Fantasy']</td>\n",
       "      <td>Apr, 2020 to ?</td>\n",
       "      <td>NaN</td>\n",
       "      <td>11881</td>\n",
       "      <td>4612</td>\n",
       "      <td>NaN</td>\n",
       "      <td>NaN</td>\n",
       "      <td>https://cdn.myanimelist.net/images/anime/1639/...</td>\n",
       "      <td>https://myanimelist.net/anime/40815/Honzuki_no...</td>\n",
       "    </tr>\n",
       "    <tr>\n",
       "      <th>14998</th>\n",
       "      <td>40046</td>\n",
       "      <td>ID:Invaded</td>\n",
       "      <td>Sakaido is a genius detective who can track do...</td>\n",
       "      <td>['Sci-Fi', 'Mystery']</td>\n",
       "      <td>Jan 6, 2020 to ?</td>\n",
       "      <td>NaN</td>\n",
       "      <td>17205</td>\n",
       "      <td>3494</td>\n",
       "      <td>NaN</td>\n",
       "      <td>NaN</td>\n",
       "      <td>https://cdn.myanimelist.net/images/anime/1954/...</td>\n",
       "      <td>https://myanimelist.net/anime/40046/ID_Invaded</td>\n",
       "    </tr>\n",
       "    <tr>\n",
       "      <th>14999</th>\n",
       "      <td>23319</td>\n",
       "      <td>Suisei no Gargantia: Meguru Kouro, Haruka</td>\n",
       "      <td>A 2-episode OVA for  Suisei no Gargantia  reve...</td>\n",
       "      <td>['Action', 'Adventure', 'Mecha', 'Sci-Fi']</td>\n",
       "      <td>Sep 27, 2014 to Apr 4, 2015</td>\n",
       "      <td>2.0</td>\n",
       "      <td>31131</td>\n",
       "      <td>2516</td>\n",
       "      <td>2082.0</td>\n",
       "      <td>7.41</td>\n",
       "      <td>https://cdn.myanimelist.net/images/anime/10/67...</td>\n",
       "      <td>https://myanimelist.net/anime/23319/Suisei_no_...</td>\n",
       "    </tr>\n",
       "  </tbody>\n",
       "</table>\n",
       "<p>15000 rows × 12 columns</p>\n",
       "</div>"
      ],
      "text/plain": [
       "         uid                                              title  \\\n",
       "0      28891                            Haikyuu!! Second Season   \n",
       "1      23273                            Shigatsu wa Kimi no Uso   \n",
       "2      34599                                      Made in Abyss   \n",
       "3       5114                   Fullmetal Alchemist: Brotherhood   \n",
       "4      31758                   Kizumonogatari III: Reiketsu-hen   \n",
       "...      ...                                                ...   \n",
       "14995   2820                            Time Travel Tondekeman!   \n",
       "14996  38850  Star☆Twinkle Precure: Hoshi no Uta ni Omoi wo ...   \n",
       "14997  40815  Honzuki no Gekokujou: Shisho ni Naru Tame ni w...   \n",
       "14998  40046                                         ID:Invaded   \n",
       "14999  23319          Suisei no Gargantia: Meguru Kouro, Haruka   \n",
       "\n",
       "                                                synopsis  \\\n",
       "0      Following their participation at the Inter-Hig...   \n",
       "1      Music accompanies the path of the human metron...   \n",
       "2      The Abyss—a gaping chasm stretching down into ...   \n",
       "3      \"In order for something to be obtained, someth...   \n",
       "4      After helping revive the legendary vampire Kis...   \n",
       "...                                                  ...   \n",
       "14995  The series starts when Hayato, a soccer enthus...   \n",
       "14996                                                NaN   \n",
       "14997  Second half of  Honzuki no Gekokujou: Shisho n...   \n",
       "14998  Sakaido is a genius detective who can track do...   \n",
       "14999  A 2-episode OVA for  Suisei no Gargantia  reve...   \n",
       "\n",
       "                                                   genre  \\\n",
       "0      ['Comedy', 'Sports', 'Drama', 'School', 'Shoun...   \n",
       "1      ['Drama', 'Music', 'Romance', 'School', 'Shoun...   \n",
       "2      ['Sci-Fi', 'Adventure', 'Mystery', 'Drama', 'F...   \n",
       "3      ['Action', 'Military', 'Adventure', 'Comedy', ...   \n",
       "4       ['Action', 'Mystery', 'Supernatural', 'Vampire']   \n",
       "...                                                  ...   \n",
       "14995          ['Action', 'Kids', 'Adventure', 'Comedy']   \n",
       "14996           ['Action', 'Magic', 'Fantasy', 'Shoujo']   \n",
       "14997                       ['Slice of Life', 'Fantasy']   \n",
       "14998                              ['Sci-Fi', 'Mystery']   \n",
       "14999         ['Action', 'Adventure', 'Mecha', 'Sci-Fi']   \n",
       "\n",
       "                              aired  episodes  members  popularity  ranked  \\\n",
       "0       Oct 4, 2015 to Mar 27, 2016      25.0   489888         141    25.0   \n",
       "1      Oct 10, 2014 to Mar 20, 2015      22.0   995473          28    24.0   \n",
       "2       Jul 7, 2017 to Sep 29, 2017      13.0   581663          98    23.0   \n",
       "3        Apr 5, 2009 to Jul 4, 2010      64.0  1615084           4     1.0   \n",
       "4                       Jan 6, 2017       1.0   214621         502    22.0   \n",
       "...                             ...       ...      ...         ...     ...   \n",
       "14995  Oct 19, 1989 to Aug 26, 1990      39.0     1469        8684  2084.0   \n",
       "14996                  Oct 19, 2019       1.0     1187        9176  2081.0   \n",
       "14997                Apr, 2020 to ?       NaN    11881        4612     NaN   \n",
       "14998              Jan 6, 2020 to ?       NaN    17205        3494     NaN   \n",
       "14999   Sep 27, 2014 to Apr 4, 2015       2.0    31131        2516  2082.0   \n",
       "\n",
       "       score                                            img_url  \\\n",
       "0       8.82  https://cdn.myanimelist.net/images/anime/9/766...   \n",
       "1       8.83  https://cdn.myanimelist.net/images/anime/3/671...   \n",
       "2       8.83  https://cdn.myanimelist.net/images/anime/6/867...   \n",
       "3       9.23  https://cdn.myanimelist.net/images/anime/1223/...   \n",
       "4       8.83  https://cdn.myanimelist.net/images/anime/3/815...   \n",
       "...      ...                                                ...   \n",
       "14995   7.41  https://cdn.myanimelist.net/images/anime/6/456...   \n",
       "14996   7.41  https://cdn.myanimelist.net/images/anime/1324/...   \n",
       "14997    NaN  https://cdn.myanimelist.net/images/anime/1639/...   \n",
       "14998    NaN  https://cdn.myanimelist.net/images/anime/1954/...   \n",
       "14999   7.41  https://cdn.myanimelist.net/images/anime/10/67...   \n",
       "\n",
       "                                                    link  \n",
       "0      https://myanimelist.net/anime/28891/Haikyuu_Se...  \n",
       "1      https://myanimelist.net/anime/23273/Shigatsu_w...  \n",
       "2      https://myanimelist.net/anime/34599/Made_in_Abyss  \n",
       "3      https://myanimelist.net/anime/5114/Fullmetal_A...  \n",
       "4      https://myanimelist.net/anime/31758/Kizumonoga...  \n",
       "...                                                  ...  \n",
       "14995  https://myanimelist.net/anime/2820/Time_Travel...  \n",
       "14996  https://myanimelist.net/anime/38850/Star%E2%98...  \n",
       "14997  https://myanimelist.net/anime/40815/Honzuki_no...  \n",
       "14998     https://myanimelist.net/anime/40046/ID_Invaded  \n",
       "14999  https://myanimelist.net/anime/23319/Suisei_no_...  \n",
       "\n",
       "[15000 rows x 12 columns]"
      ]
     },
     "execution_count": 77,
     "metadata": {},
     "output_type": "execute_result"
    }
   ],
   "source": [
    "df"
   ]
  },
  {
   "cell_type": "code",
   "execution_count": 78,
   "id": "807cc84a",
   "metadata": {},
   "outputs": [
    {
     "name": "stdout",
     "output_type": "stream",
     "text": [
      "Index(['uid', 'title', 'synopsis', 'genre', 'aired', 'episodes', 'members',\n",
      "       'popularity', 'ranked', 'score', 'img_url', 'link'],\n",
      "      dtype='object')\n"
     ]
    }
   ],
   "source": [
    "print(df.columns)"
   ]
  },
  {
   "cell_type": "markdown",
   "id": "9c77bb53",
   "metadata": {},
   "source": [
    "- **```isnull().sum()```** This method checks whether the Dataframe contains missing values in each row and column."
   ]
  },
  {
   "cell_type": "code",
   "execution_count": 79,
   "id": "7eb0a587",
   "metadata": {},
   "outputs": [
    {
     "data": {
      "text/plain": [
       "uid              0\n",
       "title            0\n",
       "synopsis       812\n",
       "genre            0\n",
       "aired            0\n",
       "episodes       616\n",
       "members          0\n",
       "popularity       0\n",
       "ranked        1927\n",
       "score          536\n",
       "img_url        165\n",
       "link             0\n",
       "dtype: int64"
      ]
     },
     "execution_count": 79,
     "metadata": {},
     "output_type": "execute_result"
    }
   ],
   "source": [
    "df.isnull().sum()"
   ]
  },
  {
   "cell_type": "markdown",
   "id": "544f2f91",
   "metadata": {},
   "source": [
    "creates variables taken from the \"sinopsi\", \"genre\", and \"judul\" columns of the dataframe."
   ]
  },
  {
   "cell_type": "code",
   "execution_count": 80,
   "id": "454d18aa",
   "metadata": {},
   "outputs": [
    {
     "data": {
      "text/plain": [
       "0             haikyuu!! second season\n",
       "1             shigatsu wa kimi no uso\n",
       "2                       made in abyss\n",
       "3    fullmetal alchemist: brotherhood\n",
       "4    kizumonogatari iii: reiketsu-hen\n",
       "Name: title, dtype: object"
      ]
     },
     "execution_count": 80,
     "metadata": {},
     "output_type": "execute_result"
    }
   ],
   "source": [
    "sinopsi = df['synopsis']\n",
    "genre = df['genre']\n",
    "judul = df['title']\n",
    "for i, t in enumerate(judul):\n",
    "    judul[i] = t.lower()\n",
    "    \n",
    "judul.head()"
   ]
  },
  {
   "cell_type": "markdown",
   "id": "de04ba51",
   "metadata": {},
   "source": [
    "- The ```fillna()``` function is used to replace the missing values in the \"synopsy\" column with spaces (' '). This can be useful for further text processing.\n",
    "- ```each_anime_genre.replace('[', '')```: Removes the opening square brackets '\\[' from the genre string.\n",
    "- ```each_anime_genre.replace(']', '')```: Removes the closing square brackets ']' from the genre string.\n",
    "- ```each_anime_genre.replace(\"'\", \"\")```: Removes single quotes (') from the genre string.\n",
    "- ```each_anime_genre.replace(\",\", \"\")```: Removes the comma \",\" from the genre string."
   ]
  },
  {
   "cell_type": "code",
   "execution_count": 81,
   "id": "f0eefb91",
   "metadata": {},
   "outputs": [
    {
     "data": {
      "text/plain": [
       "0                       Comedy Sports Drama School Shounen\n",
       "1                       Drama Music Romance School Shounen\n",
       "2                   Sci-Fi Adventure Mystery Drama Fantasy\n",
       "3        Action Military Adventure Comedy Drama Magic F...\n",
       "4                      Action Mystery Supernatural Vampire\n",
       "                               ...                        \n",
       "14995                         Action Kids Adventure Comedy\n",
       "14996                          Action Magic Fantasy Shoujo\n",
       "14997                                Slice of Life Fantasy\n",
       "14998                                       Sci-Fi Mystery\n",
       "14999                        Action Adventure Mecha Sci-Fi\n",
       "Name: genre, Length: 15000, dtype: object"
      ]
     },
     "execution_count": 81,
     "metadata": {},
     "output_type": "execute_result"
    }
   ],
   "source": [
    "sinopsi = sinopsi.fillna(' ')\n",
    "for i,each_anime_genre in enumerate(genre):\n",
    "    each_anime_genre = each_anime_genre.replace('[', '')\n",
    "    each_anime_genre = each_anime_genre.replace(']', '')\n",
    "    each_anime_genre = each_anime_genre.replace(\"'\", \"\")\n",
    "    each_anime_genre = each_anime_genre.replace(\",\", \"\")\n",
    "    genre.iloc[i] = each_anime_genre\n",
    "genre"
   ]
  },
  {
   "cell_type": "code",
   "execution_count": 82,
   "id": "73027b06",
   "metadata": {
    "scrolled": true
   },
   "outputs": [
    {
     "data": {
      "text/plain": [
       "' large training camp alongside many notable volleyball teams karasuno high school volleyball team attempts volleyball team must learn overcome formidable opponents old class setter tooru oikawa standing rival nekoma high spring tournament instead senior players graduate national level players could possibly break archrival aoba jousai new — including toughest teams karasuno agrees new attacks would strengthen train harder take part powerful weapon mal rewrite last chance kageyama attempt also come high karasuno written world victory tokyo sturdiest skills sharpen settle refocus receive playing participation one moreover members may long japan invitation inter hope hope hinata following facing ever even efforts differences devise conquer blocks aiming'"
      ]
     },
     "execution_count": 82,
     "metadata": {},
     "output_type": "execute_result"
    }
   ],
   "source": [
    "rake = Rake()\n",
    "keywords = []\n",
    "\n",
    "for plot in sinopsi:\n",
    "    rake.extract_keywords_from_text(plot)\n",
    "    keywords_i = rake.get_ranked_phrases()\n",
    "    keywords_i_string = \"\"\n",
    "    for keyword in keywords_i:\n",
    "        keywords_i_string = keywords_i_string + \" \" + keyword\n",
    "    keywords.append(keywords_i_string)\n",
    "    \n",
    "df['keywords'] = keywords\n",
    "df['keywords'][0]    "
   ]
  },
  {
   "cell_type": "markdown",
   "id": "a1257e38",
   "metadata": {},
   "source": [
    "Create a new column by combining \"genre\" and \"keywords\" from the dataframe. Then the column is used to convert the text data into numeric feature vectors."
   ]
  },
  {
   "cell_type": "code",
   "execution_count": 83,
   "id": "02c3b1fd",
   "metadata": {},
   "outputs": [],
   "source": [
    "df['kata-kata'] = df['genre'] + df['keywords']"
   ]
  },
  {
   "cell_type": "code",
   "execution_count": 84,
   "id": "79ad6aa1",
   "metadata": {},
   "outputs": [],
   "source": [
    "vectorizer = CountVectorizer()\n",
    "vectorized_kataKata = vectorizer.fit_transform(df['kata-kata'])\n",
    "vectorized_kataKata = vectorized_kataKata.toarray()"
   ]
  },
  {
   "cell_type": "markdown",
   "id": "2bb90e8b",
   "metadata": {},
   "source": [
    "### Pembuatan Fungsi Input Pencarian"
   ]
  },
  {
   "cell_type": "code",
   "execution_count": 144,
   "id": "e753ce46",
   "metadata": {},
   "outputs": [],
   "source": [
    "def evaluate_precision(relevant_anime, recommended_anime):\n",
    "    relevant_set = set(relevant_anime)\n",
    "    recommended_set = set(recommended_anime)\n",
    "    \n",
    "    intersection = relevant_set.intersection(recommended_set)\n",
    "    \n",
    "    precision = len(intersection) / len(recommended_set) if len(recommended_set) > 0 else 0\n",
    "    \n",
    "    return precision"
   ]
  },
  {
   "cell_type": "code",
   "execution_count": 145,
   "id": "55d8db81",
   "metadata": {},
   "outputs": [],
   "source": [
    "# Function to Find Recommendations\n",
    "def cari_anime():\n",
    "    search_type = input(\"Enter search type (1: Title, 2: Keywords, 3: Genre): \")\n",
    "    search_query = input(\"Enter your search query: \")\n",
    "    n_recommendations = int(input(\"Enter the number of recommendations you want: \"))\n",
    "\n",
    "    if search_type == \"1\": \n",
    "        recommendations = df[df['title'].str.contains(search_query, case=False)]['title'].head(n_recommendations).tolist()\n",
    "    elif search_type == \"2\":  \n",
    "        recommendations = df[df['keywords'].str.contains(search_query, case=False)]['title'].head(n_recommendations).tolist()\n",
    "    elif search_type == \"3\":  \n",
    "        recommendations = df[df['genre'].str.contains(search_query, case=False)]['title'].head(n_recommendations).tolist()\n",
    "    else:\n",
    "        print(\"Invalid search type. Please try again.\")\n",
    "        return\n",
    "\n",
    "    print(\"Recommendations:\")\n",
    "    for idx, recommendation in enumerate(recommendations):\n",
    "        print(f\"{idx+1}. {recommendation}\")"
   ]
  },
  {
   "cell_type": "code",
   "execution_count": 146,
   "id": "267924bd",
   "metadata": {},
   "outputs": [
    {
     "name": "stdout",
     "output_type": "stream",
     "text": [
      "Precision: 0.6666666666666666\n"
     ]
    }
   ],
   "source": [
    "# Example usage\n",
    "relevant_anime = ['Attack on Titan', 'One Punch Man', 'Naruto']\n",
    "recommended_anime = ['Attack on Titan', 'One Punch Man', 'Sword Art Online']\n",
    "\n",
    "precision = evaluate_precision(relevant_anime, recommended_anime)\n",
    "print(\"Precision:\", precision)"
   ]
  },
  {
   "cell_type": "markdown",
   "id": "2d27ad16",
   "metadata": {},
   "source": [
    "#### Title Search"
   ]
  },
  {
   "cell_type": "code",
   "execution_count": 147,
   "id": "2bc679d4",
   "metadata": {},
   "outputs": [
    {
     "name": "stdout",
     "output_type": "stream",
     "text": [
      "Enter search type (1: Title, 2: Keywords, 3: Genre): 1\n",
      "Enter your search query: sword art online\n",
      "Enter the number of recommendations you want: 5\n",
      "Recommendations:\n",
      "1. sword art online: alicization - war of underworld\n",
      "2. sword art online movie: ordinal scale\n",
      "3. sword art online fatal bullet: the third episode\n",
      "4. sword art online fatal bullet: the third episode - pilot-ban\n",
      "5. sword art online: alicization - war of underworld\n"
     ]
    }
   ],
   "source": [
    "cari_anime() #1"
   ]
  },
  {
   "cell_type": "markdown",
   "id": "954d160d",
   "metadata": {},
   "source": [
    "#### Keyword Search"
   ]
  },
  {
   "cell_type": "code",
   "execution_count": 148,
   "id": "2a384dd7",
   "metadata": {},
   "outputs": [
    {
     "name": "stdout",
     "output_type": "stream",
     "text": [
      "Enter search type (1: Title, 2: Keywords, 3: Genre): 2\n",
      "Enter your search query: kawaii\n",
      "Enter the number of recommendations you want: 5\n",
      "Recommendations:\n",
      "1. shownoid mako-chan\n",
      "2. kakko kawaii sengen! 2\n",
      "3. nexus\n",
      "4. reunion (music)\n",
      "5. ao no exorcist movie special\n"
     ]
    }
   ],
   "source": [
    "cari_anime() #2"
   ]
  },
  {
   "cell_type": "markdown",
   "id": "825f0d51",
   "metadata": {},
   "source": [
    "#### Genre/Category Search"
   ]
  },
  {
   "cell_type": "code",
   "execution_count": 150,
   "id": "507a2b5b",
   "metadata": {},
   "outputs": [
    {
     "name": "stdout",
     "output_type": "stream",
     "text": [
      "Enter search type (1: Title, 2: Keywords, 3: Genre): 3\n",
      "Enter your search query: Romance\n",
      "Enter the number of recommendations you want: 5\n",
      "Recommendations:\n",
      "1. shigatsu wa kimi no uso\n",
      "2. clannad: after story\n",
      "3. nodame cantabile: finale - mine to kiyora no saikai\n",
      "4. inuyasha movie 3: tenka hadou no ken\n",
      "5. gekkan shoujo nozaki-kun specials\n"
     ]
    }
   ],
   "source": [
    "cari_anime() #3"
   ]
  },
  {
   "cell_type": "code",
   "execution_count": 151,
   "id": "1b4a0479",
   "metadata": {},
   "outputs": [
    {
     "name": "stdout",
     "output_type": "stream",
     "text": [
      "Enter search type (1: Title, 2: Keywords, 3: Genre): 5\n",
      "Enter your search query: demon\n",
      "Enter the number of recommendations you want: 5\n",
      "Invalid search type. Please try again.\n"
     ]
    }
   ],
   "source": [
    "cari_anime() #wrong answer only"
   ]
  },
  {
   "cell_type": "code",
   "execution_count": null,
   "id": "5cc8519a",
   "metadata": {},
   "outputs": [],
   "source": []
  }
 ],
 "metadata": {
  "kernelspec": {
   "display_name": "Python 3 (ipykernel)",
   "language": "python",
   "name": "python3"
  },
  "language_info": {
   "codemirror_mode": {
    "name": "ipython",
    "version": 3
   },
   "file_extension": ".py",
   "mimetype": "text/x-python",
   "name": "python",
   "nbconvert_exporter": "python",
   "pygments_lexer": "ipython3",
   "version": "3.10.9"
  }
 },
 "nbformat": 4,
 "nbformat_minor": 5
}
